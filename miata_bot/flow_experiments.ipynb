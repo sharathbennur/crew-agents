{
 "cells": [
  {
   "cell_type": "markdown",
   "id": "b9276785",
   "metadata": {},
   "source": [
    "### Setup"
   ]
  },
  {
   "cell_type": "code",
   "execution_count": 2,
   "id": "de4d15c5",
   "metadata": {},
   "outputs": [
    {
     "name": "stdout",
     "output_type": "stream",
     "text": [
      "Using OpenRouter API key from environment variable.\n"
     ]
    }
   ],
   "source": [
    "# Warning control\n",
    "import warnings\n",
    "warnings.filterwarnings('ignore')\n",
    "\n",
    "# Setup imports\n",
    "from crewai import Agent, Task, Crew, LLM\n",
    "import os\n",
    "from dotenv import load_dotenv\n",
    "\n",
    "# loading variables from .env file\n",
    "load_dotenv()\n",
    "\n",
    "# get default OpenRouter API key\n",
    "OPENROUTER_API_KEY = os.getenv(\"OPENROUTER_API_KEY\")\n",
    "if not OPENROUTER_API_KEY:\n",
    "    raise ValueError(\"Please set the OPENROUTER_API_KEY environment variable.\")\n",
    "else:\n",
    "    print(\"Using OpenRouter API key from environment variable.\")\n"
   ]
  },
  {
   "cell_type": "code",
   "execution_count": 3,
   "id": "ab78a93a",
   "metadata": {},
   "outputs": [],
   "source": [
    "# Initialize the LLM\n",
    "llm = LLM(\n",
    "    model=\"openrouter/openai/gpt-5-mini\",\n",
    "    base_url=\"https://openrouter.ai/api/v1\",\n",
    "    api_key=OPENROUTER_API_KEY,\n",
    ")"
   ]
  },
  {
   "cell_type": "code",
   "execution_count": 4,
   "id": "42fe2d7a",
   "metadata": {},
   "outputs": [],
   "source": [
    "# setup chroma DB + Client\n",
    "import chromadb\n",
    "\n",
    "client = chromadb.PersistentClient(path=\"./chroma_db\")\n",
    "\n",
    "# Set custom storage location\n",
    "os.environ[\"CREWAI_STORAGE_DIR\"] = \"./chroma_db\""
   ]
  },
  {
   "cell_type": "markdown",
   "id": "dc7d0370",
   "metadata": {},
   "source": [
    "### Agents"
   ]
  },
  {
   "cell_type": "code",
   "execution_count": 5,
   "id": "3a207774",
   "metadata": {},
   "outputs": [],
   "source": [
    "# writing and reviewing agents\n",
    "content_writer = Agent(\n",
    "    role=\"Educational Content Writer\",\n",
    "    goal=\"Create engaging, informative content that thoroughly explains the assigned topic and provides valuable insights to the reader\",\n",
    "    backstory=  \"You are a talented educational writer with expertise in creating clear, engaging \"\n",
    "                \"content. You have a gift for explaining complex concepts in accessible language \"\n",
    "                \"and organizing information in a way that helps readers build their understanding.\",\n",
    "    allow_delegation=False,\n",
    "    verbose=True,\n",
    "    llm=llm\n",
    ")\n",
    "\n",
    "content_reviewer = Agent(\n",
    "    role=\"Educational Content Reviewer and Editor\",\n",
    "    goal=\"Ensure content is accurate, comprehensive, well-structured, and maintains consistency with previously written sections\",\n",
    "    backstory=  \"You are a meticulous editor with years of experience reviewing educational\"\n",
    "                \"content. You have an eye for detail, clarity, and coherence. You excel at\"\n",
    "                \"improving content while maintaining the original author's voice and ensuring\"\n",
    "                \"consistent quality across multiple sections.\",\n",
    "    allow_delegation=False,\n",
    "\tverbose=True,\n",
    "    llm=llm\n",
    ")"
   ]
  },
  {
   "cell_type": "markdown",
   "id": "ef19d657",
   "metadata": {},
   "source": [
    "### Tasks"
   ]
  },
  {
   "cell_type": "code",
   "execution_count": 6,
   "id": "228e226a",
   "metadata": {},
   "outputs": [],
   "source": [
    "write_section_task = Task(\n",
    "    description=(\n",
    "        \"Write a comprehensive section on the topic: {section_title}\\n\\n\"\n",
    "        \"Section description: {section_description}\\n\"\n",
    "        \"Target audience: {audience_level} level learners\\n\\n\"\n",
    "        \"Your content should:\\n\"\n",
    "        \"1. Begin with a brief introduction to the section topic\\n\"\n",
    "        \"2. Explain all key concepts clearly with examples\\n\"\n",
    "        \"3. Include practical applications or exercises where appropriate\\n\"\n",
    "        \"4. End with a summary of key points\\n\"\n",
    "        \"5. Be approximately 500-800 words in length\\n\\n\"\n",
    "        \"Format your content in Markdown with appropriate headings, lists, and emphasis.\\n\\n\"\n",
    "        \"Previously written sections:\\n\"\n",
    "        \"{previous_sections}\\n\\n\"\n",
    "        \"Make sure your content maintains consistency with previously written sections \"\n",
    "        \"and builds upon concepts that have already been explained.\"\n",
    "    ),\n",
    "    expected_output=(\n",
    "        \"A well-structured, comprehensive section in Markdown format that thoroughly \"\n",
    "        \"explains the topic and is appropriate for the target audience.\"\n",
    "    ),\n",
    "    agent=content_writer\n",
    ")\n",
    "\n",
    "review_section_task = Task(\n",
    "    description=(\n",
    "        \"Review and improve the following section on \\\"{section_title}\\\":\\n\\n\"\n",
    "        \"{draft_content}\\n\\n\"\n",
    "        \"Target audience: {audience_level} level learners\\n\\n\"\n",
    "        \"Previously written sections:\\n\"\n",
    "        \"{previous_sections}\\n\\n\"\n",
    "        \"Your review should:\\n\"\n",
    "        \"1. Fix any grammatical or spelling errors\\n\"\n",
    "        \"2. Improve clarity and readability\\n\"\n",
    "        \"3. Ensure content is comprehensive and accurate\\n\"\n",
    "        \"4. Verify consistency with previously written sections\\n\"\n",
    "        \"5. Enhance the structure and flow\\n\"\n",
    "        \"6. Add any missing key information\\n\\n\"\n",
    "        \"Provide the improved version of the section in Markdown format.\"\n",
    "    ),\n",
    "    expected_output=(\n",
    "        \"An improved, polished version of the section that maintains the original \"\n",
    "        \"structure but enhances clarity, accuracy, and consistency.\"\n",
    "    ),\n",
    "    agent=content_reviewer,\n",
    "    context=[write_section_task]\n",
    ")"
   ]
  },
  {
   "cell_type": "markdown",
   "id": "08a7698f",
   "metadata": {},
   "source": [
    "### Create the crew"
   ]
  },
  {
   "cell_type": "code",
   "execution_count": 7,
   "id": "d37f6896",
   "metadata": {},
   "outputs": [],
   "source": [
    "# Create the crew with agents and tasks\n",
    "content_crew = Crew(\n",
    "    agents=[content_writer, content_reviewer],\n",
    "    tasks=[write_section_task, review_section_task],\n",
    "    verbose=True,\n",
    "    # memory=True,\n",
    ")"
   ]
  },
  {
   "cell_type": "markdown",
   "id": "2a369828",
   "metadata": {},
   "source": [
    "### Create the flow"
   ]
  },
  {
   "cell_type": "code",
   "execution_count": 8,
   "id": "1664e303",
   "metadata": {},
   "outputs": [],
   "source": [
    "import json\n",
    "import os\n",
    "from typing import List, Dict\n",
    "from pydantic import BaseModel, Field\n",
    "from crewai import LLM\n",
    "from crewai.flow.flow import Flow, listen, start\n",
    "\n",
    "\n",
    "# Define our models for structured data\n",
    "class Section(BaseModel):\n",
    "    title: str = Field(description=\"Title of the section\")\n",
    "    description: str = Field(description=\"Brief description of what the section should cover\")\n",
    "\n",
    "class GuideOutline(BaseModel):\n",
    "    title: str = Field(description=\"Title of the guide\")\n",
    "    introduction: str = Field(description=\"Introduction to the topic\")\n",
    "    target_audience: str = Field(description=\"Description of the target audience\")\n",
    "    sections: List[Section] = Field(description=\"List of sections in the guide\")\n",
    "    conclusion: str = Field(description=\"Conclusion or summary of the guide\")\n",
    "\n",
    "# Define our flow state\n",
    "class GuideCreatorState(BaseModel):\n",
    "    topic: str = \"\"\n",
    "    audience_level: str = \"\"\n",
    "    guide_outline: GuideOutline = None\n",
    "    sections_content: Dict[str, str] = {}\n",
    "\n",
    "class GuideCreatorFlow(Flow[GuideCreatorState]):\n",
    "    \"\"\"Flow for creating a comprehensive guide on any topic\"\"\"\n",
    "\n",
    "    @start()\n",
    "    def get_user_input(self):\n",
    "        \"\"\"Get input from the user about the guide topic and audience\"\"\"\n",
    "        print(\"\\n=== Create Your Comprehensive Guide ===\\n\")\n",
    "\n",
    "        # Get user input\n",
    "        self.state.topic = input(\"What topic would you like to create a guide for? \")\n",
    "\n",
    "        # Get audience level with validation\n",
    "        while True:\n",
    "            audience = input(\"Who is your target audience? (beginner/intermediate/advanced) \").lower()\n",
    "            if audience in [\"beginner\", \"intermediate\", \"advanced\"]:\n",
    "                self.state.audience_level = audience\n",
    "                break\n",
    "            print(\"Please enter 'beginner', 'intermediate', or 'advanced'\")\n",
    "\n",
    "        print(f\"\\nCreating a guide on {self.state.topic} for {self.state.audience_level} audience...\\n\")\n",
    "        return self.state\n",
    "\n",
    "    @listen(get_user_input)\n",
    "    def create_guide_outline(self, state):\n",
    "        \"\"\"Create a structured outline for the guide using a direct LLM call\"\"\"\n",
    "        print(\"Creating guide outline...\")\n",
    "\n",
    "        # Initialize the LLM\n",
    "        llm.response_format=GuideOutline\n",
    "\n",
    "        # Create the messages for the outline\n",
    "        messages = [\n",
    "            {\"role\": \"system\", \"content\": \"You are a helpful assistant designed to output JSON.\"},\n",
    "            {\"role\": \"user\", \"content\": f\"\"\"\n",
    "            Create a detailed outline for a comprehensive guide on \"{state.topic}\" for {state.audience_level} level learners.\n",
    "\n",
    "            The outline should include:\n",
    "            1. A compelling title for the guide\n",
    "            2. An introduction to the topic\n",
    "            3. 4-6 main sections that cover the most important aspects of the topic\n",
    "            4. A conclusion or summary\n",
    "\n",
    "            For each section, provide a clear title and a brief description of what it should cover.\n",
    "            \"\"\"}\n",
    "        ]\n",
    "\n",
    "        # Make the LLM call with JSON response format\n",
    "        response = llm.call(messages=messages)\n",
    "\n",
    "        # Parse the JSON response\n",
    "        outline_dict = json.loads(response)\n",
    "        self.state.guide_outline = GuideOutline(**outline_dict)\n",
    "\n",
    "        # Ensure output directory exists before saving\n",
    "        os.makedirs(\"output\", exist_ok=True)\n",
    "\n",
    "        # Save the outline to a file\n",
    "        with open(\"output/guide_outline.json\", \"w\") as f:\n",
    "            json.dump(outline_dict, f, indent=2)\n",
    "\n",
    "        print(f\"Guide outline created with {len(self.state.guide_outline.sections)} sections\")\n",
    "        return self.state.guide_outline\n",
    "\n",
    "    @listen(create_guide_outline)\n",
    "    def write_and_compile_guide(self, outline):\n",
    "        \"\"\"Write all sections and compile the guide\"\"\"\n",
    "        print(\"Writing guide sections and compiling...\")\n",
    "        completed_sections = []\n",
    "\n",
    "        # Process sections one by one to maintain context flow\n",
    "        for section in outline.sections:\n",
    "            print(f\"Processing section: {section.title}\")\n",
    "\n",
    "            # Build context from previous sections\n",
    "            previous_sections_text = \"\"\n",
    "            if completed_sections:\n",
    "                previous_sections_text = \"# Previously Written Sections\\n\\n\"\n",
    "                for title in completed_sections:\n",
    "                    previous_sections_text += f\"## {title}\\n\\n\"\n",
    "                    previous_sections_text += self.state.sections_content.get(title, \"\") + \"\\n\\n\"\n",
    "            else:\n",
    "                previous_sections_text = \"No previous sections written yet.\"\n",
    "\n",
    "            # Run the content crew for this section\n",
    "            result = content_crew.crew().kickoff(inputs={\n",
    "                \"section_title\": section.title,\n",
    "                \"section_description\": section.description,\n",
    "                \"audience_level\": self.state.audience_level,\n",
    "                \"previous_sections\": previous_sections_text,\n",
    "                \"draft_content\": \"\"\n",
    "            })\n",
    "\n",
    "            # Store the content\n",
    "            self.state.sections_content[section.title] = result.raw\n",
    "            completed_sections.append(section.title)\n",
    "            print(f\"Section completed: {section.title}\")\n",
    "\n",
    "        # Compile the final guide\n",
    "        guide_content = f\"# {outline.title}\\n\\n\"\n",
    "        guide_content += f\"## Introduction\\n\\n{outline.introduction}\\n\\n\"\n",
    "\n",
    "        # Add each section in order\n",
    "        for section in outline.sections:\n",
    "            section_content = self.state.sections_content.get(section.title, \"\")\n",
    "            guide_content += f\"\\n\\n{section_content}\\n\\n\"\n",
    "\n",
    "        # Add conclusion\n",
    "        guide_content += f\"## Conclusion\\n\\n{outline.conclusion}\\n\\n\"\n",
    "\n",
    "        # Save the guide\n",
    "        with open(\"output/complete_guide.md\", \"w\") as f:\n",
    "            f.write(guide_content)\n",
    "\n",
    "        print(\"\\nComplete guide compiled and saved to output/complete_guide.md\")\n",
    "        return \"Guide creation completed successfully\""
   ]
  },
  {
   "cell_type": "markdown",
   "id": "1d158488",
   "metadata": {},
   "source": [
    "### Run the flow and plot it"
   ]
  },
  {
   "cell_type": "code",
   "execution_count": 9,
   "id": "01ba4a85",
   "metadata": {},
   "outputs": [
    {
     "data": {
      "text/html": [
       "<pre style=\"white-space:pre;overflow-x:auto;line-height:normal;font-family:Menlo,'DejaVu Sans Mono',consolas,'Courier New',monospace\"><span style=\"color: #000080; text-decoration-color: #000080\">╭──────────────────────────────────────────────── Flow Execution ─────────────────────────────────────────────────╮</span>\n",
       "<span style=\"color: #000080; text-decoration-color: #000080\">│</span>                                                                                                                 <span style=\"color: #000080; text-decoration-color: #000080\">│</span>\n",
       "<span style=\"color: #000080; text-decoration-color: #000080\">│</span>  <span style=\"color: #000080; text-decoration-color: #000080; font-weight: bold\">Starting Flow Execution</span>                                                                                        <span style=\"color: #000080; text-decoration-color: #000080\">│</span>\n",
       "<span style=\"color: #000080; text-decoration-color: #000080\">│</span>  <span style=\"color: #c0c0c0; text-decoration-color: #c0c0c0\">Name: </span><span style=\"color: #000080; text-decoration-color: #000080\">GuideCreatorFlow</span>                                                                                         <span style=\"color: #000080; text-decoration-color: #000080\">│</span>\n",
       "<span style=\"color: #000080; text-decoration-color: #000080\">│</span>  <span style=\"color: #c0c0c0; text-decoration-color: #c0c0c0\">ID: </span><span style=\"color: #000080; text-decoration-color: #000080\">badcef52-126d-40ae-82ac-5de560f30ea0</span>                                                                       <span style=\"color: #000080; text-decoration-color: #000080\">│</span>\n",
       "<span style=\"color: #000080; text-decoration-color: #000080\">│</span>  <span style=\"color: #c0c0c0; text-decoration-color: #c0c0c0\">Tool Args: </span>                                                                                                    <span style=\"color: #000080; text-decoration-color: #000080\">│</span>\n",
       "<span style=\"color: #000080; text-decoration-color: #000080\">│</span>                                                                                                                 <span style=\"color: #000080; text-decoration-color: #000080\">│</span>\n",
       "<span style=\"color: #000080; text-decoration-color: #000080\">│</span>                                                                                                                 <span style=\"color: #000080; text-decoration-color: #000080\">│</span>\n",
       "<span style=\"color: #000080; text-decoration-color: #000080\">╰─────────────────────────────────────────────────────────────────────────────────────────────────────────────────╯</span>\n",
       "</pre>\n"
      ],
      "text/plain": [
       "\u001b[34m╭─\u001b[0m\u001b[34m───────────────────────────────────────────────\u001b[0m\u001b[34m Flow Execution \u001b[0m\u001b[34m────────────────────────────────────────────────\u001b[0m\u001b[34m─╮\u001b[0m\n",
       "\u001b[34m│\u001b[0m                                                                                                                 \u001b[34m│\u001b[0m\n",
       "\u001b[34m│\u001b[0m  \u001b[1;34mStarting Flow Execution\u001b[0m                                                                                        \u001b[34m│\u001b[0m\n",
       "\u001b[34m│\u001b[0m  \u001b[37mName: \u001b[0m\u001b[34mGuideCreatorFlow\u001b[0m                                                                                         \u001b[34m│\u001b[0m\n",
       "\u001b[34m│\u001b[0m  \u001b[37mID: \u001b[0m\u001b[34mbadcef52-126d-40ae-82ac-5de560f30ea0\u001b[0m                                                                       \u001b[34m│\u001b[0m\n",
       "\u001b[34m│\u001b[0m  \u001b[37mTool Args: \u001b[0m                                                                                                    \u001b[34m│\u001b[0m\n",
       "\u001b[34m│\u001b[0m                                                                                                                 \u001b[34m│\u001b[0m\n",
       "\u001b[34m│\u001b[0m                                                                                                                 \u001b[34m│\u001b[0m\n",
       "\u001b[34m╰─────────────────────────────────────────────────────────────────────────────────────────────────────────────────╯\u001b[0m\n"
      ]
     },
     "metadata": {},
     "output_type": "display_data"
    },
    {
     "data": {
      "text/html": [
       "<pre style=\"white-space:pre;overflow-x:auto;line-height:normal;font-family:Menlo,'DejaVu Sans Mono',consolas,'Courier New',monospace\">\n",
       "</pre>\n"
      ],
      "text/plain": [
       "\n"
      ]
     },
     "metadata": {},
     "output_type": "display_data"
    },
    {
     "name": "stdout",
     "output_type": "stream",
     "text": [
      "Plot saved as guide_creator_flow.html\n",
      "Flow visualization saved to guide_creator_flow.html\n"
     ]
    }
   ],
   "source": [
    "\"\"\"Generate a visualization of the flow\"\"\"\n",
    "my_flow = GuideCreatorFlow()\n",
    "my_flow.plot(\"guide_creator_flow\")\n",
    "print(\"Flow visualization saved to guide_creator_flow.html\")"
   ]
  },
  {
   "cell_type": "code",
   "execution_count": 10,
   "id": "fd1c275c",
   "metadata": {},
   "outputs": [
    {
     "data": {
      "text/html": [
       "<pre style=\"white-space:pre;overflow-x:auto;line-height:normal;font-family:Menlo,'DejaVu Sans Mono',consolas,'Courier New',monospace\"><span style=\"color: #800080; text-decoration-color: #800080; font-weight: bold\"> Flow started with ID: badcef52-126d-40ae-82ac-5de560f30ea0</span>\n",
       "</pre>\n"
      ],
      "text/plain": [
       "\u001b[1;35m Flow started with ID: badcef52-126d-40ae-82ac-5de560f30ea0\u001b[0m\n"
      ]
     },
     "metadata": {},
     "output_type": "display_data"
    },
    {
     "data": {
      "text/html": [
       "<pre style=\"white-space:pre;overflow-x:auto;line-height:normal;font-family:Menlo,'DejaVu Sans Mono',consolas,'Courier New',monospace\">\n",
       "=== Create Your Comprehensive Guide ===\n",
       "</pre>\n"
      ],
      "text/plain": [
       "\n",
       "=== Create Your Comprehensive Guide ===\n"
      ]
     },
     "metadata": {},
     "output_type": "display_data"
    },
    {
     "data": {
      "text/html": [
       "<pre style=\"white-space:pre;overflow-x:auto;line-height:normal;font-family:Menlo,'DejaVu Sans Mono',consolas,'Courier New',monospace\">\n",
       "</pre>\n"
      ],
      "text/plain": [
       "\n"
      ]
     },
     "metadata": {},
     "output_type": "display_data"
    },
    {
     "data": {
      "text/html": [
       "<pre style=\"white-space:pre;overflow-x:auto;line-height:normal;font-family:Menlo,'DejaVu Sans Mono',consolas,'Courier New',monospace\">\n",
       "Creating a guide on Mazda Miata exhaust systems for intermediate audience...\n",
       "</pre>\n"
      ],
      "text/plain": [
       "\n",
       "Creating a guide on Mazda Miata exhaust systems for intermediate audience...\n"
      ]
     },
     "metadata": {},
     "output_type": "display_data"
    },
    {
     "data": {
      "text/html": [
       "<pre style=\"white-space:pre;overflow-x:auto;line-height:normal;font-family:Menlo,'DejaVu Sans Mono',consolas,'Courier New',monospace\">\n",
       "</pre>\n"
      ],
      "text/plain": [
       "\n"
      ]
     },
     "metadata": {},
     "output_type": "display_data"
    },
    {
     "data": {
      "text/html": [
       "<pre style=\"white-space:pre;overflow-x:auto;line-height:normal;font-family:Menlo,'DejaVu Sans Mono',consolas,'Courier New',monospace\">Creating guide outline...\n",
       "</pre>\n"
      ],
      "text/plain": [
       "Creating guide outline...\n"
      ]
     },
     "metadata": {},
     "output_type": "display_data"
    },
    {
     "data": {
      "text/html": [
       "<pre style=\"white-space:pre;overflow-x:auto;line-height:normal;font-family:Menlo,'DejaVu Sans Mono',consolas,'Courier New',monospace\">Error executing listener create_guide_outline: The model openrouter/openai/gpt-5-mini does not support \n",
       "response_format for provider 'openrouter'. Please remove response_format or use a supported model.\n",
       "</pre>\n"
      ],
      "text/plain": [
       "Error executing listener create_guide_outline: The model openrouter/openai/gpt-5-mini does not support \n",
       "response_format for provider 'openrouter'. Please remove response_format or use a supported model.\n"
      ]
     },
     "metadata": {},
     "output_type": "display_data"
    },
    {
     "ename": "ValueError",
     "evalue": "The model openrouter/openai/gpt-5-mini does not support response_format for provider 'openrouter'. Please remove response_format or use a supported model.",
     "output_type": "error",
     "traceback": [
      "\u001b[31m---------------------------------------------------------------------------\u001b[39m",
      "\u001b[31mValueError\u001b[39m                                Traceback (most recent call last)",
      "\u001b[36mCell\u001b[39m\u001b[36m \u001b[39m\u001b[32mIn[10]\u001b[39m\u001b[32m, line 3\u001b[39m\n\u001b[32m      1\u001b[39m \u001b[38;5;66;03m# Run the guide creator flow\u001b[39;00m\n\u001b[32m----> \u001b[39m\u001b[32m3\u001b[39m result = \u001b[38;5;28;01mawait\u001b[39;00m my_flow.kickoff_async()\n\u001b[32m      4\u001b[39m \u001b[38;5;28mprint\u001b[39m(\u001b[33m\"\u001b[39m\u001b[38;5;130;01m\\n\u001b[39;00m\u001b[33m=== Flow Complete ===\u001b[39m\u001b[33m\"\u001b[39m)\n\u001b[32m      5\u001b[39m \u001b[38;5;28mprint\u001b[39m(\u001b[33m\"\u001b[39m\u001b[33mYour comprehensive guide is ready in the output directory.\u001b[39m\u001b[33m\"\u001b[39m)\n",
      "\u001b[36mFile \u001b[39m\u001b[32m~/.pyenv/versions/crew-agents/lib/python3.13/site-packages/crewai/flow/flow.py:879\u001b[39m, in \u001b[36mFlow.kickoff_async\u001b[39m\u001b[34m(self, inputs)\u001b[39m\n\u001b[32m    873\u001b[39m     \u001b[38;5;28mself\u001b[39m._initialize_state(inputs)\n\u001b[32m    875\u001b[39m tasks = [\n\u001b[32m    876\u001b[39m     \u001b[38;5;28mself\u001b[39m._execute_start_method(start_method)\n\u001b[32m    877\u001b[39m     \u001b[38;5;28;01mfor\u001b[39;00m start_method \u001b[38;5;129;01min\u001b[39;00m \u001b[38;5;28mself\u001b[39m._start_methods\n\u001b[32m    878\u001b[39m ]\n\u001b[32m--> \u001b[39m\u001b[32m879\u001b[39m \u001b[38;5;28;01mawait\u001b[39;00m asyncio.gather(*tasks)\n\u001b[32m    881\u001b[39m final_output = \u001b[38;5;28mself\u001b[39m._method_outputs[-\u001b[32m1\u001b[39m] \u001b[38;5;28;01mif\u001b[39;00m \u001b[38;5;28mself\u001b[39m._method_outputs \u001b[38;5;28;01melse\u001b[39;00m \u001b[38;5;28;01mNone\u001b[39;00m\n\u001b[32m    883\u001b[39m crewai_event_bus.emit(\n\u001b[32m    884\u001b[39m     \u001b[38;5;28mself\u001b[39m,\n\u001b[32m    885\u001b[39m     FlowFinishedEvent(\n\u001b[32m   (...)\u001b[39m\u001b[32m    889\u001b[39m     ),\n\u001b[32m    890\u001b[39m )\n",
      "\u001b[36mFile \u001b[39m\u001b[32m~/.pyenv/versions/crew-agents/lib/python3.13/site-packages/crewai/flow/flow.py:923\u001b[39m, in \u001b[36mFlow._execute_start_method\u001b[39m\u001b[34m(self, start_method_name)\u001b[39m\n\u001b[32m    918\u001b[39m     \u001b[38;5;28;01mreturn\u001b[39;00m\n\u001b[32m    920\u001b[39m result = \u001b[38;5;28;01mawait\u001b[39;00m \u001b[38;5;28mself\u001b[39m._execute_method(\n\u001b[32m    921\u001b[39m     start_method_name, \u001b[38;5;28mself\u001b[39m._methods[start_method_name]\n\u001b[32m    922\u001b[39m )\n\u001b[32m--> \u001b[39m\u001b[32m923\u001b[39m \u001b[38;5;28;01mawait\u001b[39;00m \u001b[38;5;28mself\u001b[39m._execute_listeners(start_method_name, result)\n",
      "\u001b[36mFile \u001b[39m\u001b[32m~/.pyenv/versions/crew-agents/lib/python3.13/site-packages/crewai/flow/flow.py:1036\u001b[39m, in \u001b[36mFlow._execute_listeners\u001b[39m\u001b[34m(self, trigger_method, result)\u001b[39m\n\u001b[32m   1031\u001b[39m \u001b[38;5;28;01mif\u001b[39;00m listeners_triggered:\n\u001b[32m   1032\u001b[39m     tasks = [\n\u001b[32m   1033\u001b[39m         \u001b[38;5;28mself\u001b[39m._execute_single_listener(listener_name, result)\n\u001b[32m   1034\u001b[39m         \u001b[38;5;28;01mfor\u001b[39;00m listener_name \u001b[38;5;129;01min\u001b[39;00m listeners_triggered\n\u001b[32m   1035\u001b[39m     ]\n\u001b[32m-> \u001b[39m\u001b[32m1036\u001b[39m     \u001b[38;5;28;01mawait\u001b[39;00m asyncio.gather(*tasks)\n",
      "\u001b[36mFile \u001b[39m\u001b[32m~/.pyenv/versions/crew-agents/lib/python3.13/site-packages/crewai/flow/flow.py:1137\u001b[39m, in \u001b[36mFlow._execute_single_listener\u001b[39m\u001b[34m(self, listener_name, result)\u001b[39m\n\u001b[32m   1134\u001b[39m method_params = [p \u001b[38;5;28;01mfor\u001b[39;00m p \u001b[38;5;129;01min\u001b[39;00m params \u001b[38;5;28;01mif\u001b[39;00m p.name != \u001b[33m\"\u001b[39m\u001b[33mself\u001b[39m\u001b[33m\"\u001b[39m]\n\u001b[32m   1136\u001b[39m \u001b[38;5;28;01mif\u001b[39;00m method_params:\n\u001b[32m-> \u001b[39m\u001b[32m1137\u001b[39m     listener_result = \u001b[38;5;28;01mawait\u001b[39;00m \u001b[38;5;28mself\u001b[39m._execute_method(\n\u001b[32m   1138\u001b[39m         listener_name, method, result\n\u001b[32m   1139\u001b[39m     )\n\u001b[32m   1140\u001b[39m \u001b[38;5;28;01melse\u001b[39;00m:\n\u001b[32m   1141\u001b[39m     listener_result = \u001b[38;5;28;01mawait\u001b[39;00m \u001b[38;5;28mself\u001b[39m._execute_method(listener_name, method)\n",
      "\u001b[36mFile \u001b[39m\u001b[32m~/.pyenv/versions/crew-agents/lib/python3.13/site-packages/crewai/flow/flow.py:977\u001b[39m, in \u001b[36mFlow._execute_method\u001b[39m\u001b[34m(self, method_name, method, *args, **kwargs)\u001b[39m\n\u001b[32m    967\u001b[39m \u001b[38;5;28;01mexcept\u001b[39;00m \u001b[38;5;167;01mException\u001b[39;00m \u001b[38;5;28;01mas\u001b[39;00m e:\n\u001b[32m    968\u001b[39m     crewai_event_bus.emit(\n\u001b[32m    969\u001b[39m         \u001b[38;5;28mself\u001b[39m,\n\u001b[32m    970\u001b[39m         MethodExecutionFailedEvent(\n\u001b[32m   (...)\u001b[39m\u001b[32m    975\u001b[39m         ),\n\u001b[32m    976\u001b[39m     )\n\u001b[32m--> \u001b[39m\u001b[32m977\u001b[39m     \u001b[38;5;28;01mraise\u001b[39;00m e\n",
      "\u001b[36mFile \u001b[39m\u001b[32m~/.pyenv/versions/crew-agents/lib/python3.13/site-packages/crewai/flow/flow.py:946\u001b[39m, in \u001b[36mFlow._execute_method\u001b[39m\u001b[34m(self, method_name, method, *args, **kwargs)\u001b[39m\n\u001b[32m    929\u001b[39m dumped_params = {\u001b[33mf\u001b[39m\u001b[33m\"\u001b[39m\u001b[33m_\u001b[39m\u001b[38;5;132;01m{\u001b[39;00mi\u001b[38;5;132;01m}\u001b[39;00m\u001b[33m\"\u001b[39m: arg \u001b[38;5;28;01mfor\u001b[39;00m i, arg \u001b[38;5;129;01min\u001b[39;00m \u001b[38;5;28menumerate\u001b[39m(args)} | (\n\u001b[32m    930\u001b[39m     kwargs \u001b[38;5;129;01mor\u001b[39;00m {}\n\u001b[32m    931\u001b[39m )\n\u001b[32m    932\u001b[39m crewai_event_bus.emit(\n\u001b[32m    933\u001b[39m     \u001b[38;5;28mself\u001b[39m,\n\u001b[32m    934\u001b[39m     MethodExecutionStartedEvent(\n\u001b[32m   (...)\u001b[39m\u001b[32m    940\u001b[39m     ),\n\u001b[32m    941\u001b[39m )\n\u001b[32m    943\u001b[39m result = (\n\u001b[32m    944\u001b[39m     \u001b[38;5;28;01mawait\u001b[39;00m method(*args, **kwargs)\n\u001b[32m    945\u001b[39m     \u001b[38;5;28;01mif\u001b[39;00m asyncio.iscoroutinefunction(method)\n\u001b[32m--> \u001b[39m\u001b[32m946\u001b[39m     \u001b[38;5;28;01melse\u001b[39;00m \u001b[43mmethod\u001b[49m\u001b[43m(\u001b[49m\u001b[43m*\u001b[49m\u001b[43margs\u001b[49m\u001b[43m,\u001b[49m\u001b[43m \u001b[49m\u001b[43m*\u001b[49m\u001b[43m*\u001b[49m\u001b[43mkwargs\u001b[49m\u001b[43m)\u001b[49m\n\u001b[32m    947\u001b[39m )\n\u001b[32m    949\u001b[39m \u001b[38;5;28mself\u001b[39m._method_outputs.append(result)\n\u001b[32m    950\u001b[39m \u001b[38;5;28mself\u001b[39m._method_execution_counts[method_name] = (\n\u001b[32m    951\u001b[39m     \u001b[38;5;28mself\u001b[39m._method_execution_counts.get(method_name, \u001b[32m0\u001b[39m) + \u001b[32m1\u001b[39m\n\u001b[32m    952\u001b[39m )\n",
      "\u001b[36mCell\u001b[39m\u001b[36m \u001b[39m\u001b[32mIn[8]\u001b[39m\u001b[32m, line 75\u001b[39m, in \u001b[36mGuideCreatorFlow.create_guide_outline\u001b[39m\u001b[34m(self, state)\u001b[39m\n\u001b[32m     59\u001b[39m messages = [\n\u001b[32m     60\u001b[39m     {\u001b[33m\"\u001b[39m\u001b[33mrole\u001b[39m\u001b[33m\"\u001b[39m: \u001b[33m\"\u001b[39m\u001b[33msystem\u001b[39m\u001b[33m\"\u001b[39m, \u001b[33m\"\u001b[39m\u001b[33mcontent\u001b[39m\u001b[33m\"\u001b[39m: \u001b[33m\"\u001b[39m\u001b[33mYou are a helpful assistant designed to output JSON.\u001b[39m\u001b[33m\"\u001b[39m},\n\u001b[32m     61\u001b[39m     {\u001b[33m\"\u001b[39m\u001b[33mrole\u001b[39m\u001b[33m\"\u001b[39m: \u001b[33m\"\u001b[39m\u001b[33muser\u001b[39m\u001b[33m\"\u001b[39m, \u001b[33m\"\u001b[39m\u001b[33mcontent\u001b[39m\u001b[33m\"\u001b[39m: \u001b[33mf\u001b[39m\u001b[33m\"\"\"\u001b[39m\n\u001b[32m   (...)\u001b[39m\u001b[32m     71\u001b[39m \u001b[33m    \u001b[39m\u001b[33m\"\"\"\u001b[39m}\n\u001b[32m     72\u001b[39m ]\n\u001b[32m     74\u001b[39m \u001b[38;5;66;03m# Make the LLM call with JSON response format\u001b[39;00m\n\u001b[32m---> \u001b[39m\u001b[32m75\u001b[39m response = \u001b[43mllm\u001b[49m\u001b[43m.\u001b[49m\u001b[43mcall\u001b[49m\u001b[43m(\u001b[49m\u001b[43mmessages\u001b[49m\u001b[43m=\u001b[49m\u001b[43mmessages\u001b[49m\u001b[43m)\u001b[49m\n\u001b[32m     77\u001b[39m \u001b[38;5;66;03m# Parse the JSON response\u001b[39;00m\n\u001b[32m     78\u001b[39m outline_dict = json.loads(response)\n",
      "\u001b[36mFile \u001b[39m\u001b[32m~/.pyenv/versions/crew-agents/lib/python3.13/site-packages/crewai/llm.py:996\u001b[39m, in \u001b[36mLLM.call\u001b[39m\u001b[34m(self, messages, tools, callbacks, available_functions, from_task, from_agent)\u001b[39m\n\u001b[32m    982\u001b[39m crewai_event_bus.emit(\n\u001b[32m    983\u001b[39m     \u001b[38;5;28mself\u001b[39m,\n\u001b[32m    984\u001b[39m     event=LLMCallStartedEvent(\n\u001b[32m   (...)\u001b[39m\u001b[32m    992\u001b[39m     ),\n\u001b[32m    993\u001b[39m )\n\u001b[32m    995\u001b[39m \u001b[38;5;66;03m# --- 2) Validate parameters before proceeding with the call\u001b[39;00m\n\u001b[32m--> \u001b[39m\u001b[32m996\u001b[39m \u001b[38;5;28;43mself\u001b[39;49m\u001b[43m.\u001b[49m\u001b[43m_validate_call_params\u001b[49m\u001b[43m(\u001b[49m\u001b[43m)\u001b[49m\n\u001b[32m    998\u001b[39m \u001b[38;5;66;03m# --- 3) Convert string messages to proper format if needed\u001b[39;00m\n\u001b[32m    999\u001b[39m \u001b[38;5;28;01mif\u001b[39;00m \u001b[38;5;28misinstance\u001b[39m(messages, \u001b[38;5;28mstr\u001b[39m):\n",
      "\u001b[36mFile \u001b[39m\u001b[32m~/.pyenv/versions/crew-agents/lib/python3.13/site-packages/crewai/llm.py:1181\u001b[39m, in \u001b[36mLLM._validate_call_params\u001b[39m\u001b[34m(self)\u001b[39m\n\u001b[32m   1176\u001b[39m provider = \u001b[38;5;28mself\u001b[39m._get_custom_llm_provider()\n\u001b[32m   1177\u001b[39m \u001b[38;5;28;01mif\u001b[39;00m \u001b[38;5;28mself\u001b[39m.response_format \u001b[38;5;129;01mis\u001b[39;00m \u001b[38;5;129;01mnot\u001b[39;00m \u001b[38;5;28;01mNone\u001b[39;00m \u001b[38;5;129;01mand\u001b[39;00m \u001b[38;5;129;01mnot\u001b[39;00m supports_response_schema(\n\u001b[32m   1178\u001b[39m     model=\u001b[38;5;28mself\u001b[39m.model,\n\u001b[32m   1179\u001b[39m     custom_llm_provider=provider,\n\u001b[32m   1180\u001b[39m ):\n\u001b[32m-> \u001b[39m\u001b[32m1181\u001b[39m     \u001b[38;5;28;01mraise\u001b[39;00m \u001b[38;5;167;01mValueError\u001b[39;00m(\n\u001b[32m   1182\u001b[39m         \u001b[33mf\u001b[39m\u001b[33m\"\u001b[39m\u001b[33mThe model \u001b[39m\u001b[38;5;132;01m{\u001b[39;00m\u001b[38;5;28mself\u001b[39m.model\u001b[38;5;132;01m}\u001b[39;00m\u001b[33m does not support response_format for provider \u001b[39m\u001b[33m'\u001b[39m\u001b[38;5;132;01m{\u001b[39;00mprovider\u001b[38;5;132;01m}\u001b[39;00m\u001b[33m'\u001b[39m\u001b[33m. \u001b[39m\u001b[33m\"\u001b[39m\n\u001b[32m   1183\u001b[39m         \u001b[33m\"\u001b[39m\u001b[33mPlease remove response_format or use a supported model.\u001b[39m\u001b[33m\"\u001b[39m\n\u001b[32m   1184\u001b[39m     )\n",
      "\u001b[31mValueError\u001b[39m: The model openrouter/openai/gpt-5-mini does not support response_format for provider 'openrouter'. Please remove response_format or use a supported model."
     ]
    }
   ],
   "source": [
    "# Run the guide creator flow\n",
    "\n",
    "result = await my_flow.kickoff_async()\n",
    "print(\"\\n=== Flow Complete ===\")\n",
    "print(\"Your comprehensive guide is ready in the output directory.\")\n",
    "print(\"Open output/complete_guide.md to view it.\")"
   ]
  }
 ],
 "metadata": {
  "kernelspec": {
   "display_name": "crew-agents",
   "language": "python",
   "name": "python3"
  },
  "language_info": {
   "codemirror_mode": {
    "name": "ipython",
    "version": 3
   },
   "file_extension": ".py",
   "mimetype": "text/x-python",
   "name": "python",
   "nbconvert_exporter": "python",
   "pygments_lexer": "ipython3",
   "version": "3.13.6"
  }
 },
 "nbformat": 4,
 "nbformat_minor": 5
}
